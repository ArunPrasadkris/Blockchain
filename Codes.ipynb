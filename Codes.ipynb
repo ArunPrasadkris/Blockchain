{
 "cells": [
  {
   "cell_type": "code",
   "execution_count": 13,
   "id": "1f2030b8-a88d-4c90-9bc4-39c10ced134c",
   "metadata": {},
   "outputs": [
    {
     "name": "stdout",
     "output_type": "stream",
     "text": [
      "Requirement already satisfied: web3 in c:\\users\\arun1\\appdata\\roaming\\python\\python310\\site-packages (6.2.0)\n",
      "Requirement already satisfied: eth-abi>=4.0.0 in c:\\users\\arun1\\appdata\\roaming\\python\\python310\\site-packages (from web3) (4.0.0)\n",
      "Requirement already satisfied: jsonschema>=4.0.0 in c:\\users\\arun1\\anaconda3\\envs\\dev\\lib\\site-packages (from web3) (4.17.3)\n",
      "Requirement already satisfied: lru-dict>=1.1.6 in c:\\users\\arun1\\anaconda3\\envs\\dev\\lib\\site-packages (from web3) (1.1.8)\n",
      "Requirement already satisfied: websockets>=10.0.0 in c:\\users\\arun1\\anaconda3\\envs\\dev\\lib\\site-packages (from web3) (10.4)\n",
      "Requirement already satisfied: aiohttp>=3.7.4.post0 in c:\\users\\arun1\\anaconda3\\envs\\dev\\lib\\site-packages (from web3) (3.8.1)\n",
      "Requirement already satisfied: requests>=2.16.0 in c:\\users\\arun1\\anaconda3\\envs\\dev\\lib\\site-packages (from web3) (2.29.0)\n",
      "Requirement already satisfied: eth-account>=0.8.0 in c:\\users\\arun1\\appdata\\roaming\\python\\python310\\site-packages (from web3) (0.8.0)\n",
      "Requirement already satisfied: eth-typing>=3.0.0 in c:\\users\\arun1\\appdata\\roaming\\python\\python310\\site-packages (from web3) (3.3.0)\n",
      "Requirement already satisfied: pywin32>=223 in c:\\users\\arun1\\anaconda3\\envs\\dev\\lib\\site-packages (from web3) (305.1)\n",
      "Requirement already satisfied: eth-hash[pycryptodome]>=0.5.1 in c:\\users\\arun1\\appdata\\roaming\\python\\python310\\site-packages (from web3) (0.5.1)\n",
      "Requirement already satisfied: eth-utils>=2.1.0 in c:\\users\\arun1\\appdata\\roaming\\python\\python310\\site-packages (from web3) (2.1.0)\n",
      "Collecting protobuf>=4.21.6\n",
      "  Using cached protobuf-4.22.3-cp310-abi3-win_amd64.whl (420 kB)\n",
      "Requirement already satisfied: hexbytes>=0.1.0 in c:\\users\\arun1\\appdata\\roaming\\python\\python310\\site-packages (from web3) (0.3.0)\n",
      "Requirement already satisfied: yarl<2.0,>=1.0 in c:\\users\\arun1\\anaconda3\\envs\\dev\\lib\\site-packages (from aiohttp>=3.7.4.post0->web3) (1.9.2)\n",
      "Requirement already satisfied: charset-normalizer<3.0,>=2.0 in c:\\users\\arun1\\anaconda3\\envs\\dev\\lib\\site-packages (from aiohttp>=3.7.4.post0->web3) (2.0.4)\n",
      "Requirement already satisfied: async-timeout<5.0,>=4.0.0a3 in c:\\users\\arun1\\anaconda3\\envs\\dev\\lib\\site-packages (from aiohttp>=3.7.4.post0->web3) (4.0.2)\n",
      "Requirement already satisfied: attrs>=17.3.0 in c:\\users\\arun1\\anaconda3\\envs\\dev\\lib\\site-packages (from aiohttp>=3.7.4.post0->web3) (22.1.0)\n",
      "Requirement already satisfied: multidict<7.0,>=4.5 in c:\\users\\arun1\\anaconda3\\envs\\dev\\lib\\site-packages (from aiohttp>=3.7.4.post0->web3) (6.0.4)\n",
      "Requirement already satisfied: aiosignal>=1.1.2 in c:\\users\\arun1\\anaconda3\\envs\\dev\\lib\\site-packages (from aiohttp>=3.7.4.post0->web3) (1.3.1)\n",
      "Requirement already satisfied: frozenlist>=1.1.1 in c:\\users\\arun1\\anaconda3\\envs\\dev\\lib\\site-packages (from aiohttp>=3.7.4.post0->web3) (1.3.3)\n",
      "Requirement already satisfied: parsimonious<0.10.0,>=0.9.0 in c:\\users\\arun1\\appdata\\roaming\\python\\python310\\site-packages (from eth-abi>=4.0.0->web3) (0.9.0)\n",
      "Requirement already satisfied: eth-keys<0.5,>=0.4.0 in c:\\users\\arun1\\appdata\\roaming\\python\\python310\\site-packages (from eth-account>=0.8.0->web3) (0.4.0)\n",
      "Requirement already satisfied: eth-keyfile<0.7.0,>=0.6.0 in c:\\users\\arun1\\appdata\\roaming\\python\\python310\\site-packages (from eth-account>=0.8.0->web3) (0.6.1)\n",
      "Requirement already satisfied: eth-rlp<1,>=0.3.0 in c:\\users\\arun1\\appdata\\roaming\\python\\python310\\site-packages (from eth-account>=0.8.0->web3) (0.3.0)\n",
      "Requirement already satisfied: bitarray<3,>=2.4.0 in c:\\users\\arun1\\anaconda3\\envs\\dev\\lib\\site-packages (from eth-account>=0.8.0->web3) (2.7.3)\n",
      "Requirement already satisfied: rlp<4,>=1.0.0 in c:\\users\\arun1\\appdata\\roaming\\python\\python310\\site-packages (from eth-account>=0.8.0->web3) (3.0.0)\n",
      "Requirement already satisfied: pycryptodome<4,>=3.6.6 in c:\\users\\arun1\\anaconda3\\envs\\dev\\lib\\site-packages (from eth-hash[pycryptodome]>=0.5.1->web3) (3.17)\n",
      "Requirement already satisfied: cytoolz>=0.10.1 in c:\\users\\arun1\\anaconda3\\envs\\dev\\lib\\site-packages (from eth-utils>=2.1.0->web3) (0.12.0)\n",
      "Requirement already satisfied: pyrsistent!=0.17.0,!=0.17.1,!=0.17.2,>=0.14.0 in c:\\users\\arun1\\anaconda3\\envs\\dev\\lib\\site-packages (from jsonschema>=4.0.0->web3) (0.18.0)\n",
      "Requirement already satisfied: idna<4,>=2.5 in c:\\users\\arun1\\anaconda3\\envs\\dev\\lib\\site-packages (from requests>=2.16.0->web3) (3.4)\n",
      "Requirement already satisfied: certifi>=2017.4.17 in c:\\users\\arun1\\anaconda3\\envs\\dev\\lib\\site-packages (from requests>=2.16.0->web3) (2022.12.7)\n",
      "Requirement already satisfied: urllib3<1.27,>=1.21.1 in c:\\users\\arun1\\anaconda3\\envs\\dev\\lib\\site-packages (from requests>=2.16.0->web3) (1.26.15)\n",
      "Requirement already satisfied: toolz>=0.8.0 in c:\\users\\arun1\\anaconda3\\envs\\dev\\lib\\site-packages (from cytoolz>=0.10.1->eth-utils>=2.1.0->web3) (0.12.0)\n",
      "Requirement already satisfied: regex>=2022.3.15 in c:\\users\\arun1\\anaconda3\\envs\\dev\\lib\\site-packages (from parsimonious<0.10.0,>=0.9.0->eth-abi>=4.0.0->web3) (2022.7.9)\n",
      "Installing collected packages: protobuf\n",
      "  Attempting uninstall: protobuf\n",
      "    Found existing installation: protobuf 3.20.0\n",
      "    Uninstalling protobuf-3.20.0:\n",
      "      Successfully uninstalled protobuf-3.20.0\n"
     ]
    },
    {
     "name": "stderr",
     "output_type": "stream",
     "text": [
      "WARNING: Ignoring invalid distribution -rotobuf (c:\\users\\arun1\\anaconda3\\envs\\dev\\lib\\site-packages)\n",
      "WARNING: Ignoring invalid distribution -rotobuf (c:\\users\\arun1\\anaconda3\\envs\\dev\\lib\\site-packages)\n",
      "WARNING: Ignoring invalid distribution -rotobuf (c:\\users\\arun1\\anaconda3\\envs\\dev\\lib\\site-packages)\n",
      "    WARNING: Ignoring invalid distribution -rotobuf (c:\\users\\arun1\\anaconda3\\envs\\dev\\lib\\site-packages)\n",
      "ERROR: Could not install packages due to an OSError: [WinError 5] Access is denied: 'C:\\\\Users\\\\arun1\\\\anaconda3\\\\envs\\\\dev\\\\Lib\\\\site-packages\\\\google\\\\~-otobuf\\\\internal\\\\_api_implementation.cp310-win_amd64.pyd'\n",
      "Consider using the `--user` option or check the permissions.\n",
      "\n",
      "WARNING: Ignoring invalid distribution -rotobuf (c:\\users\\arun1\\anaconda3\\envs\\dev\\lib\\site-packages)\n",
      "WARNING: Ignoring invalid distribution -rotobuf (c:\\users\\arun1\\anaconda3\\envs\\dev\\lib\\site-packages)\n",
      "WARNING: Ignoring invalid distribution -rotobuf (c:\\users\\arun1\\anaconda3\\envs\\dev\\lib\\site-packages)\n"
     ]
    }
   ],
   "source": [
    "!pip install --upgrade web3"
   ]
  },
  {
   "cell_type": "code",
   "execution_count": 14,
   "id": "458d9215-1189-42a3-be10-9f866d69bf56",
   "metadata": {},
   "outputs": [
    {
     "name": "stdout",
     "output_type": "stream",
     "text": [
      "Default Account: 0x47624EA1A7C6950a61ca3B1c4BAc780C233b4DA5\n",
      "Balance (wei): 100000000000000000000\n",
      "Balance (ether): 100\n"
     ]
    }
   ],
   "source": [
    "from web3 import Web3\n",
    "from decimal import Decimal\n",
    "\n",
    "# Connect to Ganache\n",
    "w3 = Web3(Web3.HTTPProvider('http://127.0.0.1:7545'))\n",
    "\n",
    "# Get the default account\n",
    "default_account = w3.eth.accounts[0]\n",
    "\n",
    "# Get the balance of the default account in ether\n",
    "balance_wei = w3.eth.get_balance(default_account)\n",
    "balance_eth = Decimal(balance_wei) / Decimal('1000000000000000000')\n",
    "\n",
    "print(f\"Default Account: {default_account}\")\n",
    "print(f\"Balance (wei): {balance_wei}\")\n",
    "print(f\"Balance (ether): {balance_eth}\")"
   ]
  },
  {
   "cell_type": "code",
   "execution_count": 15,
   "id": "b29b0278-2040-486a-8eca-d1061ade97d0",
   "metadata": {},
   "outputs": [],
   "source": [
    "import os\n",
    "import requests\n",
    "from dotenv import load_dotenv\n",
    "\n",
    "load_dotenv(\"SAMPLE.env\")\n",
    "\n",
    "# Fetch mnemonic from environment variable.\n",
    "mnemonic = os.getenv(\"MNEMONIC\")"
   ]
  },
  {
   "cell_type": "code",
   "execution_count": 16,
   "id": "6af4c6be-0e4d-4605-9359-9b3d9da1b53f",
   "metadata": {},
   "outputs": [
    {
     "name": "stdout",
     "output_type": "stream",
     "text": [
      "hand mechanic stay away reunion defense robust hour raise security churn remove\n"
     ]
    }
   ],
   "source": [
    "print(mnemonic)"
   ]
  },
  {
   "cell_type": "code",
   "execution_count": 17,
   "id": "7d5271e4-01f1-4595-9aae-6c23913fc24e",
   "metadata": {},
   "outputs": [
    {
     "name": "stdout",
     "output_type": "stream",
     "text": [
      "Collecting protobuf==3.20\n",
      "  Using cached protobuf-3.20.0-cp310-cp310-win_amd64.whl (903 kB)\n",
      "Installing collected packages: protobuf\n",
      "  Attempting uninstall: protobuf\n",
      "    Found existing installation: protobuf 4.22.3\n",
      "    Uninstalling protobuf-4.22.3:\n",
      "      Successfully uninstalled protobuf-4.22.3\n",
      "Successfully installed protobuf-3.20.0\n"
     ]
    },
    {
     "name": "stderr",
     "output_type": "stream",
     "text": [
      "WARNING: Ignoring invalid distribution -rotobuf (c:\\users\\arun1\\anaconda3\\envs\\dev\\lib\\site-packages)\n",
      "WARNING: Ignoring invalid distribution -rotobuf (c:\\users\\arun1\\anaconda3\\envs\\dev\\lib\\site-packages)\n",
      "WARNING: Ignoring invalid distribution -rotobuf (c:\\users\\arun1\\anaconda3\\envs\\dev\\lib\\site-packages)\n",
      "    WARNING: Ignoring invalid distribution -rotobuf (c:\\users\\arun1\\anaconda3\\envs\\dev\\lib\\site-packages)\n",
      "WARNING: Ignoring invalid distribution -rotobuf (c:\\users\\arun1\\anaconda3\\envs\\dev\\lib\\site-packages)\n",
      "ERROR: pip's dependency resolver does not currently take into account all the packages that are installed. This behaviour is the source of the following dependency conflicts.\n",
      "web3 6.2.0 requires protobuf>=4.21.6, but you have protobuf 3.20.0 which is incompatible.\n",
      "WARNING: Ignoring invalid distribution -rotobuf (c:\\users\\arun1\\anaconda3\\envs\\dev\\lib\\site-packages)\n",
      "WARNING: Ignoring invalid distribution -rotobuf (c:\\users\\arun1\\anaconda3\\envs\\dev\\lib\\site-packages)\n",
      "WARNING: Ignoring invalid distribution -rotobuf (c:\\users\\arun1\\anaconda3\\envs\\dev\\lib\\site-packages)\n"
     ]
    }
   ],
   "source": [
    "!pip install protobuf==3.20"
   ]
  },
  {
   "cell_type": "code",
   "execution_count": 18,
   "id": "b58c6ef2-2fe7-4614-9a87-934146746ba0",
   "metadata": {},
   "outputs": [],
   "source": [
    "from web3 import Account\n",
    "import os\n",
    "\n",
    "\n",
    "def generate_account():\n",
    "    # Fetch mnemonic from environment variable.\n",
    "    mnemonic = os.getenv(\"MNEMONIC\")\n",
    "\n",
    "    # Create Wallet Object\n",
    "    wallet = Wallet(mnemonic)\n",
    "\n",
    "    # Get the first account from the wallet.\n",
    "    private = wallet.privateKey\n",
    "    account = Account.from_private_key(private)\n",
    "\n",
    "    return account"
   ]
  },
  {
   "cell_type": "code",
   "execution_count": 20,
   "id": "cd8eecfc-5273-409f-a041-96d0908968b0",
   "metadata": {},
   "outputs": [
    {
     "ename": "NameError",
     "evalue": "name 'account' is not defined",
     "output_type": "error",
     "traceback": [
      "\u001b[1;31m---------------------------------------------------------------------------\u001b[0m",
      "\u001b[1;31mNameError\u001b[0m                                 Traceback (most recent call last)",
      "Cell \u001b[1;32mIn[20], line 1\u001b[0m\n\u001b[1;32m----> 1\u001b[0m \u001b[38;5;28mprint\u001b[39m(\u001b[43maccount\u001b[49m)\n",
      "\u001b[1;31mNameError\u001b[0m: name 'account' is not defined"
     ]
    }
   ],
   "source": [
    "print(account)"
   ]
  },
  {
   "cell_type": "code",
   "execution_count": null,
   "id": "762afb91-2bf3-45c3-906c-c1c4173b11b6",
   "metadata": {},
   "outputs": [],
   "source": []
  }
 ],
 "metadata": {
  "kernelspec": {
   "display_name": "Python 3 (ipykernel)",
   "language": "python",
   "name": "python3"
  },
  "language_info": {
   "codemirror_mode": {
    "name": "ipython",
    "version": 3
   },
   "file_extension": ".py",
   "mimetype": "text/x-python",
   "name": "python",
   "nbconvert_exporter": "python",
   "pygments_lexer": "ipython3",
   "version": "3.10.11"
  }
 },
 "nbformat": 4,
 "nbformat_minor": 5
}
